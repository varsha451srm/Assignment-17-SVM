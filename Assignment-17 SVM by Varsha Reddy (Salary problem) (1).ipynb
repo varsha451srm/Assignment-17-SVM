{
 "cells": [
  {
   "cell_type": "markdown",
   "metadata": {},
   "source": [
    "# 1.Import Libraries"
   ]
  },
  {
   "cell_type": "code",
   "execution_count": 1,
   "metadata": {},
   "outputs": [],
   "source": [
    "import pandas as pd\n",
    "import numpy as np\n",
    "from sklearn.svm import SVC\n",
    "from sklearn.metrics import accuracy_score,confusion_matrix,classification_report\n",
    "from sklearn.preprocessing import StandardScaler\n",
    "import matplotlib.pyplot as plt\n",
    "from sklearn.preprocessing import LabelEncoder\n",
    "import seaborn as sns\n",
    "import warnings\n",
    "warnings.filterwarnings('ignore')\n",
    "from sklearn.model_selection import GridSearchCV\n",
    "from sklearn.model_selection import RandomizedSearchCV\n",
    "%matplotlib inline"
   ]
  },
  {
   "cell_type": "markdown",
   "metadata": {},
   "source": [
    "# 2.Import Dataset"
   ]
  },
  {
   "cell_type": "code",
   "execution_count": 2,
   "metadata": {},
   "outputs": [
    {
     "data": {
      "text/html": [
       "<div>\n",
       "<style scoped>\n",
       "    .dataframe tbody tr th:only-of-type {\n",
       "        vertical-align: middle;\n",
       "    }\n",
       "\n",
       "    .dataframe tbody tr th {\n",
       "        vertical-align: top;\n",
       "    }\n",
       "\n",
       "    .dataframe thead th {\n",
       "        text-align: right;\n",
       "    }\n",
       "</style>\n",
       "<table border=\"1\" class=\"dataframe\">\n",
       "  <thead>\n",
       "    <tr style=\"text-align: right;\">\n",
       "      <th></th>\n",
       "      <th>age</th>\n",
       "      <th>workclass</th>\n",
       "      <th>education</th>\n",
       "      <th>educationno</th>\n",
       "      <th>maritalstatus</th>\n",
       "      <th>occupation</th>\n",
       "      <th>relationship</th>\n",
       "      <th>race</th>\n",
       "      <th>sex</th>\n",
       "      <th>capitalgain</th>\n",
       "      <th>capitalloss</th>\n",
       "      <th>hoursperweek</th>\n",
       "      <th>native</th>\n",
       "      <th>Salary</th>\n",
       "    </tr>\n",
       "  </thead>\n",
       "  <tbody>\n",
       "    <tr>\n",
       "      <th>0</th>\n",
       "      <td>39</td>\n",
       "      <td>State-gov</td>\n",
       "      <td>Bachelors</td>\n",
       "      <td>13</td>\n",
       "      <td>Never-married</td>\n",
       "      <td>Adm-clerical</td>\n",
       "      <td>Not-in-family</td>\n",
       "      <td>White</td>\n",
       "      <td>Male</td>\n",
       "      <td>2174</td>\n",
       "      <td>0</td>\n",
       "      <td>40</td>\n",
       "      <td>United-States</td>\n",
       "      <td>&lt;=50K</td>\n",
       "    </tr>\n",
       "    <tr>\n",
       "      <th>1</th>\n",
       "      <td>50</td>\n",
       "      <td>Self-emp-not-inc</td>\n",
       "      <td>Bachelors</td>\n",
       "      <td>13</td>\n",
       "      <td>Married-civ-spouse</td>\n",
       "      <td>Exec-managerial</td>\n",
       "      <td>Husband</td>\n",
       "      <td>White</td>\n",
       "      <td>Male</td>\n",
       "      <td>0</td>\n",
       "      <td>0</td>\n",
       "      <td>13</td>\n",
       "      <td>United-States</td>\n",
       "      <td>&lt;=50K</td>\n",
       "    </tr>\n",
       "    <tr>\n",
       "      <th>2</th>\n",
       "      <td>38</td>\n",
       "      <td>Private</td>\n",
       "      <td>HS-grad</td>\n",
       "      <td>9</td>\n",
       "      <td>Divorced</td>\n",
       "      <td>Handlers-cleaners</td>\n",
       "      <td>Not-in-family</td>\n",
       "      <td>White</td>\n",
       "      <td>Male</td>\n",
       "      <td>0</td>\n",
       "      <td>0</td>\n",
       "      <td>40</td>\n",
       "      <td>United-States</td>\n",
       "      <td>&lt;=50K</td>\n",
       "    </tr>\n",
       "    <tr>\n",
       "      <th>3</th>\n",
       "      <td>53</td>\n",
       "      <td>Private</td>\n",
       "      <td>11th</td>\n",
       "      <td>7</td>\n",
       "      <td>Married-civ-spouse</td>\n",
       "      <td>Handlers-cleaners</td>\n",
       "      <td>Husband</td>\n",
       "      <td>Black</td>\n",
       "      <td>Male</td>\n",
       "      <td>0</td>\n",
       "      <td>0</td>\n",
       "      <td>40</td>\n",
       "      <td>United-States</td>\n",
       "      <td>&lt;=50K</td>\n",
       "    </tr>\n",
       "    <tr>\n",
       "      <th>4</th>\n",
       "      <td>28</td>\n",
       "      <td>Private</td>\n",
       "      <td>Bachelors</td>\n",
       "      <td>13</td>\n",
       "      <td>Married-civ-spouse</td>\n",
       "      <td>Prof-specialty</td>\n",
       "      <td>Wife</td>\n",
       "      <td>Black</td>\n",
       "      <td>Female</td>\n",
       "      <td>0</td>\n",
       "      <td>0</td>\n",
       "      <td>40</td>\n",
       "      <td>Cuba</td>\n",
       "      <td>&lt;=50K</td>\n",
       "    </tr>\n",
       "  </tbody>\n",
       "</table>\n",
       "</div>"
      ],
      "text/plain": [
       "   age          workclass   education  educationno        maritalstatus  \\\n",
       "0   39          State-gov   Bachelors           13        Never-married   \n",
       "1   50   Self-emp-not-inc   Bachelors           13   Married-civ-spouse   \n",
       "2   38            Private     HS-grad            9             Divorced   \n",
       "3   53            Private        11th            7   Married-civ-spouse   \n",
       "4   28            Private   Bachelors           13   Married-civ-spouse   \n",
       "\n",
       "           occupation    relationship    race      sex  capitalgain  \\\n",
       "0        Adm-clerical   Not-in-family   White     Male         2174   \n",
       "1     Exec-managerial         Husband   White     Male            0   \n",
       "2   Handlers-cleaners   Not-in-family   White     Male            0   \n",
       "3   Handlers-cleaners         Husband   Black     Male            0   \n",
       "4      Prof-specialty            Wife   Black   Female            0   \n",
       "\n",
       "   capitalloss  hoursperweek          native  Salary  \n",
       "0            0            40   United-States   <=50K  \n",
       "1            0            13   United-States   <=50K  \n",
       "2            0            40   United-States   <=50K  \n",
       "3            0            40   United-States   <=50K  \n",
       "4            0            40            Cuba   <=50K  "
      ]
     },
     "execution_count": 2,
     "metadata": {},
     "output_type": "execute_result"
    }
   ],
   "source": [
    "train_data=pd.read_csv('SalaryData_Train(1).csv')\n",
    "train_data.head()"
   ]
  },
  {
   "cell_type": "code",
   "execution_count": 3,
   "metadata": {},
   "outputs": [
    {
     "data": {
      "text/html": [
       "<div>\n",
       "<style scoped>\n",
       "    .dataframe tbody tr th:only-of-type {\n",
       "        vertical-align: middle;\n",
       "    }\n",
       "\n",
       "    .dataframe tbody tr th {\n",
       "        vertical-align: top;\n",
       "    }\n",
       "\n",
       "    .dataframe thead th {\n",
       "        text-align: right;\n",
       "    }\n",
       "</style>\n",
       "<table border=\"1\" class=\"dataframe\">\n",
       "  <thead>\n",
       "    <tr style=\"text-align: right;\">\n",
       "      <th></th>\n",
       "      <th>age</th>\n",
       "      <th>workclass</th>\n",
       "      <th>education</th>\n",
       "      <th>educationno</th>\n",
       "      <th>maritalstatus</th>\n",
       "      <th>occupation</th>\n",
       "      <th>relationship</th>\n",
       "      <th>race</th>\n",
       "      <th>sex</th>\n",
       "      <th>capitalgain</th>\n",
       "      <th>capitalloss</th>\n",
       "      <th>hoursperweek</th>\n",
       "      <th>native</th>\n",
       "      <th>Salary</th>\n",
       "    </tr>\n",
       "  </thead>\n",
       "  <tbody>\n",
       "    <tr>\n",
       "      <th>0</th>\n",
       "      <td>25</td>\n",
       "      <td>Private</td>\n",
       "      <td>11th</td>\n",
       "      <td>7</td>\n",
       "      <td>Never-married</td>\n",
       "      <td>Machine-op-inspct</td>\n",
       "      <td>Own-child</td>\n",
       "      <td>Black</td>\n",
       "      <td>Male</td>\n",
       "      <td>0</td>\n",
       "      <td>0</td>\n",
       "      <td>40</td>\n",
       "      <td>United-States</td>\n",
       "      <td>&lt;=50K</td>\n",
       "    </tr>\n",
       "    <tr>\n",
       "      <th>1</th>\n",
       "      <td>38</td>\n",
       "      <td>Private</td>\n",
       "      <td>HS-grad</td>\n",
       "      <td>9</td>\n",
       "      <td>Married-civ-spouse</td>\n",
       "      <td>Farming-fishing</td>\n",
       "      <td>Husband</td>\n",
       "      <td>White</td>\n",
       "      <td>Male</td>\n",
       "      <td>0</td>\n",
       "      <td>0</td>\n",
       "      <td>50</td>\n",
       "      <td>United-States</td>\n",
       "      <td>&lt;=50K</td>\n",
       "    </tr>\n",
       "    <tr>\n",
       "      <th>2</th>\n",
       "      <td>28</td>\n",
       "      <td>Local-gov</td>\n",
       "      <td>Assoc-acdm</td>\n",
       "      <td>12</td>\n",
       "      <td>Married-civ-spouse</td>\n",
       "      <td>Protective-serv</td>\n",
       "      <td>Husband</td>\n",
       "      <td>White</td>\n",
       "      <td>Male</td>\n",
       "      <td>0</td>\n",
       "      <td>0</td>\n",
       "      <td>40</td>\n",
       "      <td>United-States</td>\n",
       "      <td>&gt;50K</td>\n",
       "    </tr>\n",
       "    <tr>\n",
       "      <th>3</th>\n",
       "      <td>44</td>\n",
       "      <td>Private</td>\n",
       "      <td>Some-college</td>\n",
       "      <td>10</td>\n",
       "      <td>Married-civ-spouse</td>\n",
       "      <td>Machine-op-inspct</td>\n",
       "      <td>Husband</td>\n",
       "      <td>Black</td>\n",
       "      <td>Male</td>\n",
       "      <td>7688</td>\n",
       "      <td>0</td>\n",
       "      <td>40</td>\n",
       "      <td>United-States</td>\n",
       "      <td>&gt;50K</td>\n",
       "    </tr>\n",
       "    <tr>\n",
       "      <th>4</th>\n",
       "      <td>34</td>\n",
       "      <td>Private</td>\n",
       "      <td>10th</td>\n",
       "      <td>6</td>\n",
       "      <td>Never-married</td>\n",
       "      <td>Other-service</td>\n",
       "      <td>Not-in-family</td>\n",
       "      <td>White</td>\n",
       "      <td>Male</td>\n",
       "      <td>0</td>\n",
       "      <td>0</td>\n",
       "      <td>30</td>\n",
       "      <td>United-States</td>\n",
       "      <td>&lt;=50K</td>\n",
       "    </tr>\n",
       "  </tbody>\n",
       "</table>\n",
       "</div>"
      ],
      "text/plain": [
       "   age   workclass      education  educationno        maritalstatus  \\\n",
       "0   25     Private           11th            7        Never-married   \n",
       "1   38     Private        HS-grad            9   Married-civ-spouse   \n",
       "2   28   Local-gov     Assoc-acdm           12   Married-civ-spouse   \n",
       "3   44     Private   Some-college           10   Married-civ-spouse   \n",
       "4   34     Private           10th            6        Never-married   \n",
       "\n",
       "           occupation    relationship    race    sex  capitalgain  \\\n",
       "0   Machine-op-inspct       Own-child   Black   Male            0   \n",
       "1     Farming-fishing         Husband   White   Male            0   \n",
       "2     Protective-serv         Husband   White   Male            0   \n",
       "3   Machine-op-inspct         Husband   Black   Male         7688   \n",
       "4       Other-service   Not-in-family   White   Male            0   \n",
       "\n",
       "   capitalloss  hoursperweek          native  Salary  \n",
       "0            0            40   United-States   <=50K  \n",
       "1            0            50   United-States   <=50K  \n",
       "2            0            40   United-States    >50K  \n",
       "3            0            40   United-States    >50K  \n",
       "4            0            30   United-States   <=50K  "
      ]
     },
     "execution_count": 3,
     "metadata": {},
     "output_type": "execute_result"
    }
   ],
   "source": [
    "test_data=pd.read_csv('SalaryData_Test(1).csv')\n",
    "test_data.head()"
   ]
  },
  {
   "cell_type": "markdown",
   "metadata": {},
   "source": [
    "# 3.Data Understanding"
   ]
  },
  {
   "cell_type": "code",
   "execution_count": 4,
   "metadata": {},
   "outputs": [
    {
     "data": {
      "text/plain": [
       "((30161, 14), (15060, 14))"
      ]
     },
     "execution_count": 4,
     "metadata": {},
     "output_type": "execute_result"
    }
   ],
   "source": [
    "train_data.shape,test_data.shape"
   ]
  },
  {
   "cell_type": "code",
   "execution_count": 5,
   "metadata": {},
   "outputs": [
    {
     "data": {
      "text/plain": [
       " <=50K    22653\n",
       " >50K      7508\n",
       "Name: Salary, dtype: int64"
      ]
     },
     "execution_count": 5,
     "metadata": {},
     "output_type": "execute_result"
    }
   ],
   "source": [
    "train_data['Salary'].value_counts()"
   ]
  },
  {
   "cell_type": "code",
   "execution_count": 6,
   "metadata": {},
   "outputs": [
    {
     "data": {
      "text/plain": [
       " <=50K    11360\n",
       " >50K      3700\n",
       "Name: Salary, dtype: int64"
      ]
     },
     "execution_count": 6,
     "metadata": {},
     "output_type": "execute_result"
    }
   ],
   "source": [
    "test_data['Salary'].value_counts()"
   ]
  },
  {
   "cell_type": "code",
   "execution_count": 7,
   "metadata": {},
   "outputs": [
    {
     "data": {
      "text/plain": [
       "age               int64\n",
       "workclass        object\n",
       "education        object\n",
       "educationno       int64\n",
       "maritalstatus    object\n",
       "occupation       object\n",
       "relationship     object\n",
       "race             object\n",
       "sex              object\n",
       "capitalgain       int64\n",
       "capitalloss       int64\n",
       "hoursperweek      int64\n",
       "native           object\n",
       "Salary           object\n",
       "dtype: object"
      ]
     },
     "execution_count": 7,
     "metadata": {},
     "output_type": "execute_result"
    }
   ],
   "source": [
    "train_data.dtypes"
   ]
  },
  {
   "cell_type": "code",
   "execution_count": 8,
   "metadata": {},
   "outputs": [
    {
     "data": {
      "text/plain": [
       "age               int64\n",
       "workclass        object\n",
       "education        object\n",
       "educationno       int64\n",
       "maritalstatus    object\n",
       "occupation       object\n",
       "relationship     object\n",
       "race             object\n",
       "sex              object\n",
       "capitalgain       int64\n",
       "capitalloss       int64\n",
       "hoursperweek      int64\n",
       "native           object\n",
       "Salary           object\n",
       "dtype: object"
      ]
     },
     "execution_count": 8,
     "metadata": {},
     "output_type": "execute_result"
    }
   ],
   "source": [
    "test_data.dtypes"
   ]
  },
  {
   "cell_type": "code",
   "execution_count": 9,
   "metadata": {},
   "outputs": [
    {
     "data": {
      "text/html": [
       "<div>\n",
       "<style scoped>\n",
       "    .dataframe tbody tr th:only-of-type {\n",
       "        vertical-align: middle;\n",
       "    }\n",
       "\n",
       "    .dataframe tbody tr th {\n",
       "        vertical-align: top;\n",
       "    }\n",
       "\n",
       "    .dataframe thead th {\n",
       "        text-align: right;\n",
       "    }\n",
       "</style>\n",
       "<table border=\"1\" class=\"dataframe\">\n",
       "  <thead>\n",
       "    <tr style=\"text-align: right;\">\n",
       "      <th></th>\n",
       "      <th>age</th>\n",
       "      <th>workclass</th>\n",
       "      <th>education</th>\n",
       "      <th>educationno</th>\n",
       "      <th>maritalstatus</th>\n",
       "      <th>occupation</th>\n",
       "      <th>relationship</th>\n",
       "      <th>race</th>\n",
       "      <th>sex</th>\n",
       "      <th>capitalgain</th>\n",
       "      <th>capitalloss</th>\n",
       "      <th>hoursperweek</th>\n",
       "      <th>native</th>\n",
       "      <th>Salary</th>\n",
       "    </tr>\n",
       "  </thead>\n",
       "  <tbody>\n",
       "    <tr>\n",
       "      <th>count</th>\n",
       "      <td>30161.000000</td>\n",
       "      <td>30161</td>\n",
       "      <td>30161</td>\n",
       "      <td>30161.000000</td>\n",
       "      <td>30161</td>\n",
       "      <td>30161</td>\n",
       "      <td>30161</td>\n",
       "      <td>30161</td>\n",
       "      <td>30161</td>\n",
       "      <td>30161.000000</td>\n",
       "      <td>30161.000000</td>\n",
       "      <td>30161.000000</td>\n",
       "      <td>30161</td>\n",
       "      <td>30161</td>\n",
       "    </tr>\n",
       "    <tr>\n",
       "      <th>unique</th>\n",
       "      <td>NaN</td>\n",
       "      <td>7</td>\n",
       "      <td>16</td>\n",
       "      <td>NaN</td>\n",
       "      <td>7</td>\n",
       "      <td>14</td>\n",
       "      <td>6</td>\n",
       "      <td>5</td>\n",
       "      <td>2</td>\n",
       "      <td>NaN</td>\n",
       "      <td>NaN</td>\n",
       "      <td>NaN</td>\n",
       "      <td>40</td>\n",
       "      <td>2</td>\n",
       "    </tr>\n",
       "    <tr>\n",
       "      <th>top</th>\n",
       "      <td>NaN</td>\n",
       "      <td>Private</td>\n",
       "      <td>HS-grad</td>\n",
       "      <td>NaN</td>\n",
       "      <td>Married-civ-spouse</td>\n",
       "      <td>Prof-specialty</td>\n",
       "      <td>Husband</td>\n",
       "      <td>White</td>\n",
       "      <td>Male</td>\n",
       "      <td>NaN</td>\n",
       "      <td>NaN</td>\n",
       "      <td>NaN</td>\n",
       "      <td>United-States</td>\n",
       "      <td>&lt;=50K</td>\n",
       "    </tr>\n",
       "    <tr>\n",
       "      <th>freq</th>\n",
       "      <td>NaN</td>\n",
       "      <td>22285</td>\n",
       "      <td>9840</td>\n",
       "      <td>NaN</td>\n",
       "      <td>14065</td>\n",
       "      <td>4038</td>\n",
       "      <td>12463</td>\n",
       "      <td>25932</td>\n",
       "      <td>20380</td>\n",
       "      <td>NaN</td>\n",
       "      <td>NaN</td>\n",
       "      <td>NaN</td>\n",
       "      <td>27504</td>\n",
       "      <td>22653</td>\n",
       "    </tr>\n",
       "    <tr>\n",
       "      <th>mean</th>\n",
       "      <td>38.438115</td>\n",
       "      <td>NaN</td>\n",
       "      <td>NaN</td>\n",
       "      <td>10.121316</td>\n",
       "      <td>NaN</td>\n",
       "      <td>NaN</td>\n",
       "      <td>NaN</td>\n",
       "      <td>NaN</td>\n",
       "      <td>NaN</td>\n",
       "      <td>1092.044064</td>\n",
       "      <td>88.302311</td>\n",
       "      <td>40.931269</td>\n",
       "      <td>NaN</td>\n",
       "      <td>NaN</td>\n",
       "    </tr>\n",
       "    <tr>\n",
       "      <th>std</th>\n",
       "      <td>13.134830</td>\n",
       "      <td>NaN</td>\n",
       "      <td>NaN</td>\n",
       "      <td>2.550037</td>\n",
       "      <td>NaN</td>\n",
       "      <td>NaN</td>\n",
       "      <td>NaN</td>\n",
       "      <td>NaN</td>\n",
       "      <td>NaN</td>\n",
       "      <td>7406.466611</td>\n",
       "      <td>404.121321</td>\n",
       "      <td>11.980182</td>\n",
       "      <td>NaN</td>\n",
       "      <td>NaN</td>\n",
       "    </tr>\n",
       "    <tr>\n",
       "      <th>min</th>\n",
       "      <td>17.000000</td>\n",
       "      <td>NaN</td>\n",
       "      <td>NaN</td>\n",
       "      <td>1.000000</td>\n",
       "      <td>NaN</td>\n",
       "      <td>NaN</td>\n",
       "      <td>NaN</td>\n",
       "      <td>NaN</td>\n",
       "      <td>NaN</td>\n",
       "      <td>0.000000</td>\n",
       "      <td>0.000000</td>\n",
       "      <td>1.000000</td>\n",
       "      <td>NaN</td>\n",
       "      <td>NaN</td>\n",
       "    </tr>\n",
       "    <tr>\n",
       "      <th>25%</th>\n",
       "      <td>28.000000</td>\n",
       "      <td>NaN</td>\n",
       "      <td>NaN</td>\n",
       "      <td>9.000000</td>\n",
       "      <td>NaN</td>\n",
       "      <td>NaN</td>\n",
       "      <td>NaN</td>\n",
       "      <td>NaN</td>\n",
       "      <td>NaN</td>\n",
       "      <td>0.000000</td>\n",
       "      <td>0.000000</td>\n",
       "      <td>40.000000</td>\n",
       "      <td>NaN</td>\n",
       "      <td>NaN</td>\n",
       "    </tr>\n",
       "    <tr>\n",
       "      <th>50%</th>\n",
       "      <td>37.000000</td>\n",
       "      <td>NaN</td>\n",
       "      <td>NaN</td>\n",
       "      <td>10.000000</td>\n",
       "      <td>NaN</td>\n",
       "      <td>NaN</td>\n",
       "      <td>NaN</td>\n",
       "      <td>NaN</td>\n",
       "      <td>NaN</td>\n",
       "      <td>0.000000</td>\n",
       "      <td>0.000000</td>\n",
       "      <td>40.000000</td>\n",
       "      <td>NaN</td>\n",
       "      <td>NaN</td>\n",
       "    </tr>\n",
       "    <tr>\n",
       "      <th>75%</th>\n",
       "      <td>47.000000</td>\n",
       "      <td>NaN</td>\n",
       "      <td>NaN</td>\n",
       "      <td>13.000000</td>\n",
       "      <td>NaN</td>\n",
       "      <td>NaN</td>\n",
       "      <td>NaN</td>\n",
       "      <td>NaN</td>\n",
       "      <td>NaN</td>\n",
       "      <td>0.000000</td>\n",
       "      <td>0.000000</td>\n",
       "      <td>45.000000</td>\n",
       "      <td>NaN</td>\n",
       "      <td>NaN</td>\n",
       "    </tr>\n",
       "    <tr>\n",
       "      <th>max</th>\n",
       "      <td>90.000000</td>\n",
       "      <td>NaN</td>\n",
       "      <td>NaN</td>\n",
       "      <td>16.000000</td>\n",
       "      <td>NaN</td>\n",
       "      <td>NaN</td>\n",
       "      <td>NaN</td>\n",
       "      <td>NaN</td>\n",
       "      <td>NaN</td>\n",
       "      <td>99999.000000</td>\n",
       "      <td>4356.000000</td>\n",
       "      <td>99.000000</td>\n",
       "      <td>NaN</td>\n",
       "      <td>NaN</td>\n",
       "    </tr>\n",
       "  </tbody>\n",
       "</table>\n",
       "</div>"
      ],
      "text/plain": [
       "                 age workclass education   educationno        maritalstatus  \\\n",
       "count   30161.000000     30161     30161  30161.000000                30161   \n",
       "unique           NaN         7        16           NaN                    7   \n",
       "top              NaN   Private   HS-grad           NaN   Married-civ-spouse   \n",
       "freq             NaN     22285      9840           NaN                14065   \n",
       "mean       38.438115       NaN       NaN     10.121316                  NaN   \n",
       "std        13.134830       NaN       NaN      2.550037                  NaN   \n",
       "min        17.000000       NaN       NaN      1.000000                  NaN   \n",
       "25%        28.000000       NaN       NaN      9.000000                  NaN   \n",
       "50%        37.000000       NaN       NaN     10.000000                  NaN   \n",
       "75%        47.000000       NaN       NaN     13.000000                  NaN   \n",
       "max        90.000000       NaN       NaN     16.000000                  NaN   \n",
       "\n",
       "             occupation relationship    race    sex   capitalgain  \\\n",
       "count             30161        30161   30161  30161  30161.000000   \n",
       "unique               14            6       5      2           NaN   \n",
       "top      Prof-specialty      Husband   White   Male           NaN   \n",
       "freq               4038        12463   25932  20380           NaN   \n",
       "mean                NaN          NaN     NaN    NaN   1092.044064   \n",
       "std                 NaN          NaN     NaN    NaN   7406.466611   \n",
       "min                 NaN          NaN     NaN    NaN      0.000000   \n",
       "25%                 NaN          NaN     NaN    NaN      0.000000   \n",
       "50%                 NaN          NaN     NaN    NaN      0.000000   \n",
       "75%                 NaN          NaN     NaN    NaN      0.000000   \n",
       "max                 NaN          NaN     NaN    NaN  99999.000000   \n",
       "\n",
       "         capitalloss  hoursperweek          native  Salary  \n",
       "count   30161.000000  30161.000000           30161   30161  \n",
       "unique           NaN           NaN              40       2  \n",
       "top              NaN           NaN   United-States   <=50K  \n",
       "freq             NaN           NaN           27504   22653  \n",
       "mean       88.302311     40.931269             NaN     NaN  \n",
       "std       404.121321     11.980182             NaN     NaN  \n",
       "min         0.000000      1.000000             NaN     NaN  \n",
       "25%         0.000000     40.000000             NaN     NaN  \n",
       "50%         0.000000     40.000000             NaN     NaN  \n",
       "75%         0.000000     45.000000             NaN     NaN  \n",
       "max      4356.000000     99.000000             NaN     NaN  "
      ]
     },
     "execution_count": 9,
     "metadata": {},
     "output_type": "execute_result"
    }
   ],
   "source": [
    "train_data.describe(include='all')"
   ]
  },
  {
   "cell_type": "code",
   "execution_count": 10,
   "metadata": {},
   "outputs": [
    {
     "data": {
      "text/plain": [
       "age              0\n",
       "workclass        0\n",
       "education        0\n",
       "educationno      0\n",
       "maritalstatus    0\n",
       "occupation       0\n",
       "relationship     0\n",
       "race             0\n",
       "sex              0\n",
       "capitalgain      0\n",
       "capitalloss      0\n",
       "hoursperweek     0\n",
       "native           0\n",
       "Salary           0\n",
       "dtype: int64"
      ]
     },
     "execution_count": 10,
     "metadata": {},
     "output_type": "execute_result"
    }
   ],
   "source": [
    "train_data.isna().sum()"
   ]
  },
  {
   "cell_type": "code",
   "execution_count": 11,
   "metadata": {},
   "outputs": [
    {
     "data": {
      "text/plain": [
       "age              0\n",
       "workclass        0\n",
       "education        0\n",
       "educationno      0\n",
       "maritalstatus    0\n",
       "occupation       0\n",
       "relationship     0\n",
       "race             0\n",
       "sex              0\n",
       "capitalgain      0\n",
       "capitalloss      0\n",
       "hoursperweek     0\n",
       "native           0\n",
       "Salary           0\n",
       "dtype: int64"
      ]
     },
     "execution_count": 11,
     "metadata": {},
     "output_type": "execute_result"
    }
   ],
   "source": [
    "test_data.isna().sum()"
   ]
  },
  {
   "cell_type": "code",
   "execution_count": 12,
   "metadata": {},
   "outputs": [
    {
     "data": {
      "text/plain": [
       "<AxesSubplot:xlabel='Salary', ylabel='count'>"
      ]
     },
     "execution_count": 12,
     "metadata": {},
     "output_type": "execute_result"
    },
    {
     "data": {
      "image/png": "[encoded data removed]",
      "text/plain": [
       "<Figure size 432x288 with 1 Axes>"
      ]
     },
     "metadata": {
      "needs_background": "light"
     },
     "output_type": "display_data"
    }
   ],
   "source": [
    "sns.countplot('Salary',data=train_data)"
   ]
  },
  {
   "cell_type": "code",
   "execution_count": 13,
   "metadata": {},
   "outputs": [
    {
     "data": {
      "image/png": "[encoded data removed]",
      "text/plain": [
       "<Figure size 864x360 with 1 Axes>"
      ]
     },
     "metadata": {
      "needs_background": "light"
     },
     "output_type": "display_data"
    }
   ],
   "source": [
    "plt.figure(figsize=(12,5))\n",
    "sns.countplot('workclass',data=train_data)\n",
    "plt.show()"
   ]
  },
  {
   "cell_type": "code",
   "execution_count": 14,
   "metadata": {},
   "outputs": [],
   "source": [
    "corr_matrix=train_data.corr()"
   ]
  },
  {
   "cell_type": "code",
   "execution_count": 15,
   "metadata": {},
   "outputs": [
    {
     "data": {
      "image/png": "[encoded data removed]",
      "text/plain": [
       "<Figure size 864x360 with 2 Axes>"
      ]
     },
     "metadata": {
      "needs_background": "light"
     },
     "output_type": "display_data"
    }
   ],
   "source": [
    "plt.figure(figsize=(12,5))\n",
    "sns.heatmap(corr_matrix,annot=True)\n",
    "plt.show()"
   ]
  },
  {
   "cell_type": "markdown",
   "metadata": {},
   "source": [
    "# 4.Data Preprocessing"
   ]
  },
  {
   "cell_type": "code",
   "execution_count": 16,
   "metadata": {},
   "outputs": [],
   "source": [
    "#encoding\n",
    "lb=LabelEncoder()\n",
    "train_data['workclass']=lb.fit_transform(train_data['workclass'])\n",
    "train_data['education']=lb.fit_transform(train_data['education'])\n",
    "train_data['maritalstatus']=lb.fit_transform(train_data['maritalstatus'])\n",
    "train_data['occupation']=lb.fit_transform(train_data['occupation'])\n",
    "train_data['race']=lb.fit_transform(train_data['race'])\n",
    "train_data['sex']=lb.fit_transform(train_data['sex'])\n",
    "train_data['native']=lb.fit_transform(train_data['native'])\n",
    "train_data['Salary']=lb.fit_transform(train_data['Salary'])\n",
    "train_data['relationship']=lb.fit_transform(train_data['relationship'])"
   ]
  },
  {
   "cell_type": "code",
   "execution_count": 17,
   "metadata": {},
   "outputs": [
    {
     "data": {
      "text/plain": [
       "age              int64\n",
       "workclass        int32\n",
       "education        int32\n",
       "educationno      int64\n",
       "maritalstatus    int32\n",
       "occupation       int32\n",
       "relationship     int32\n",
       "race             int32\n",
       "sex              int32\n",
       "capitalgain      int64\n",
       "capitalloss      int64\n",
       "hoursperweek     int64\n",
       "native           int32\n",
       "Salary           int32\n",
       "dtype: object"
      ]
     },
     "execution_count": 17,
     "metadata": {},
     "output_type": "execute_result"
    }
   ],
   "source": [
    "train_data.dtypes"
   ]
  },
  {
   "cell_type": "code",
   "execution_count": 18,
   "metadata": {},
   "outputs": [],
   "source": [
    "#encoding\n",
    "lb=LabelEncoder()\n",
    "test_data['workclass']=lb.fit_transform(test_data['workclass'])\n",
    "test_data['education']=lb.fit_transform(test_data['education'])\n",
    "test_data['maritalstatus']=lb.fit_transform(test_data['maritalstatus'])\n",
    "test_data['occupation']=lb.fit_transform(test_data['occupation'])\n",
    "test_data['race']=lb.fit_transform(test_data['race'])\n",
    "test_data['sex']=lb.fit_transform(test_data['sex'])\n",
    "test_data['native']=lb.fit_transform(test_data['native'])\n",
    "test_data['Salary']=lb.fit_transform(test_data['Salary'])\n",
    "test_data['relationship']=lb.fit_transform(test_data['relationship'])"
   ]
  },
  {
   "cell_type": "code",
   "execution_count": 19,
   "metadata": {},
   "outputs": [
    {
     "data": {
      "text/plain": [
       "age              int64\n",
       "workclass        int32\n",
       "education        int32\n",
       "educationno      int64\n",
       "maritalstatus    int32\n",
       "occupation       int32\n",
       "relationship     int32\n",
       "race             int32\n",
       "sex              int32\n",
       "capitalgain      int64\n",
       "capitalloss      int64\n",
       "hoursperweek     int64\n",
       "native           int32\n",
       "Salary           int32\n",
       "dtype: object"
      ]
     },
     "execution_count": 19,
     "metadata": {},
     "output_type": "execute_result"
    }
   ],
   "source": [
    "test_data.dtypes"
   ]
  },
  {
   "cell_type": "markdown",
   "metadata": {},
   "source": [
    "# 5.Model Building"
   ]
  },
  {
   "cell_type": "code",
   "execution_count": 20,
   "metadata": {},
   "outputs": [],
   "source": [
    "X_train=train_data.drop('Salary',axis=1)\n",
    "y_train=train_data[['Salary']]"
   ]
  },
  {
   "cell_type": "code",
   "execution_count": 21,
   "metadata": {},
   "outputs": [
    {
     "data": {
      "text/plain": [
       "((30161, 13), (30161, 1))"
      ]
     },
     "execution_count": 21,
     "metadata": {},
     "output_type": "execute_result"
    }
   ],
   "source": [
    "X_train.shape,y_train.shape"
   ]
  },
  {
   "cell_type": "markdown",
   "metadata": {},
   "source": [
    "### Standardizing"
   ]
  },
  {
   "cell_type": "code",
   "execution_count": 22,
   "metadata": {},
   "outputs": [
    {
     "data": {
      "text/html": [
       "<div>\n",
       "<style scoped>\n",
       "    .dataframe tbody tr th:only-of-type {\n",
       "        vertical-align: middle;\n",
       "    }\n",
       "\n",
       "    .dataframe tbody tr th {\n",
       "        vertical-align: top;\n",
       "    }\n",
       "\n",
       "    .dataframe thead th {\n",
       "        text-align: right;\n",
       "    }\n",
       "</style>\n",
       "<table border=\"1\" class=\"dataframe\">\n",
       "  <thead>\n",
       "    <tr style=\"text-align: right;\">\n",
       "      <th></th>\n",
       "      <th>age</th>\n",
       "      <th>workclass</th>\n",
       "      <th>education</th>\n",
       "      <th>educationno</th>\n",
       "      <th>maritalstatus</th>\n",
       "      <th>occupation</th>\n",
       "      <th>relationship</th>\n",
       "      <th>race</th>\n",
       "      <th>sex</th>\n",
       "      <th>capitalgain</th>\n",
       "      <th>capitalloss</th>\n",
       "      <th>hoursperweek</th>\n",
       "      <th>native</th>\n",
       "    </tr>\n",
       "  </thead>\n",
       "  <tbody>\n",
       "    <tr>\n",
       "      <th>0</th>\n",
       "      <td>0.042779</td>\n",
       "      <td>2.935947</td>\n",
       "      <td>-0.349827</td>\n",
       "      <td>1.128898</td>\n",
       "      <td>0.947877</td>\n",
       "      <td>-1.479030</td>\n",
       "      <td>-0.261233</td>\n",
       "      <td>0.385055</td>\n",
       "      <td>0.692771</td>\n",
       "      <td>0.146085</td>\n",
       "      <td>-0.218508</td>\n",
       "      <td>-0.077735</td>\n",
       "      <td>0.266358</td>\n",
       "    </tr>\n",
       "    <tr>\n",
       "      <th>1</th>\n",
       "      <td>0.880261</td>\n",
       "      <td>1.887645</td>\n",
       "      <td>-0.349827</td>\n",
       "      <td>1.128898</td>\n",
       "      <td>-0.387243</td>\n",
       "      <td>-0.734533</td>\n",
       "      <td>-0.885712</td>\n",
       "      <td>0.385055</td>\n",
       "      <td>0.692771</td>\n",
       "      <td>-0.147447</td>\n",
       "      <td>-0.218508</td>\n",
       "      <td>-2.331495</td>\n",
       "      <td>0.266358</td>\n",
       "    </tr>\n",
       "    <tr>\n",
       "      <th>2</th>\n",
       "      <td>-0.033356</td>\n",
       "      <td>-0.208958</td>\n",
       "      <td>0.174805</td>\n",
       "      <td>-0.439733</td>\n",
       "      <td>-1.722362</td>\n",
       "      <td>-0.238202</td>\n",
       "      <td>-0.261233</td>\n",
       "      <td>0.385055</td>\n",
       "      <td>0.692771</td>\n",
       "      <td>-0.147447</td>\n",
       "      <td>-0.218508</td>\n",
       "      <td>-0.077735</td>\n",
       "      <td>0.266358</td>\n",
       "    </tr>\n",
       "    <tr>\n",
       "      <th>3</th>\n",
       "      <td>1.108665</td>\n",
       "      <td>-0.208958</td>\n",
       "      <td>-2.448354</td>\n",
       "      <td>-1.224048</td>\n",
       "      <td>-0.387243</td>\n",
       "      <td>-0.238202</td>\n",
       "      <td>-0.885712</td>\n",
       "      <td>-2.010994</td>\n",
       "      <td>0.692771</td>\n",
       "      <td>-0.147447</td>\n",
       "      <td>-0.218508</td>\n",
       "      <td>-0.077735</td>\n",
       "      <td>0.266358</td>\n",
       "    </tr>\n",
       "    <tr>\n",
       "      <th>4</th>\n",
       "      <td>-0.794703</td>\n",
       "      <td>-0.208958</td>\n",
       "      <td>-0.349827</td>\n",
       "      <td>1.128898</td>\n",
       "      <td>-0.387243</td>\n",
       "      <td>0.754461</td>\n",
       "      <td>2.236683</td>\n",
       "      <td>-2.010994</td>\n",
       "      <td>-1.443479</td>\n",
       "      <td>-0.147447</td>\n",
       "      <td>-0.218508</td>\n",
       "      <td>-0.077735</td>\n",
       "      <td>-5.273965</td>\n",
       "    </tr>\n",
       "    <tr>\n",
       "      <th>...</th>\n",
       "      <td>...</td>\n",
       "      <td>...</td>\n",
       "      <td>...</td>\n",
       "      <td>...</td>\n",
       "      <td>...</td>\n",
       "      <td>...</td>\n",
       "      <td>...</td>\n",
       "      <td>...</td>\n",
       "      <td>...</td>\n",
       "      <td>...</td>\n",
       "      <td>...</td>\n",
       "      <td>...</td>\n",
       "      <td>...</td>\n",
       "    </tr>\n",
       "    <tr>\n",
       "      <th>30156</th>\n",
       "      <td>-0.870838</td>\n",
       "      <td>-0.208958</td>\n",
       "      <td>-0.874459</td>\n",
       "      <td>0.736740</td>\n",
       "      <td>-0.387243</td>\n",
       "      <td>1.498958</td>\n",
       "      <td>2.236683</td>\n",
       "      <td>0.385055</td>\n",
       "      <td>-1.443479</td>\n",
       "      <td>-0.147447</td>\n",
       "      <td>-0.218508</td>\n",
       "      <td>-0.244681</td>\n",
       "      <td>0.266358</td>\n",
       "    </tr>\n",
       "    <tr>\n",
       "      <th>30157</th>\n",
       "      <td>0.118914</td>\n",
       "      <td>-0.208958</td>\n",
       "      <td>0.174805</td>\n",
       "      <td>-0.439733</td>\n",
       "      <td>-0.387243</td>\n",
       "      <td>0.009964</td>\n",
       "      <td>-0.885712</td>\n",
       "      <td>0.385055</td>\n",
       "      <td>0.692771</td>\n",
       "      <td>-0.147447</td>\n",
       "      <td>-0.218508</td>\n",
       "      <td>-0.077735</td>\n",
       "      <td>0.266358</td>\n",
       "    </tr>\n",
       "    <tr>\n",
       "      <th>30158</th>\n",
       "      <td>1.489339</td>\n",
       "      <td>-0.208958</td>\n",
       "      <td>0.174805</td>\n",
       "      <td>-0.439733</td>\n",
       "      <td>2.282996</td>\n",
       "      <td>-1.479030</td>\n",
       "      <td>1.612204</td>\n",
       "      <td>0.385055</td>\n",
       "      <td>-1.443479</td>\n",
       "      <td>-0.147447</td>\n",
       "      <td>-0.218508</td>\n",
       "      <td>-0.077735</td>\n",
       "      <td>0.266358</td>\n",
       "    </tr>\n",
       "    <tr>\n",
       "      <th>30159</th>\n",
       "      <td>-1.251511</td>\n",
       "      <td>-0.208958</td>\n",
       "      <td>0.174805</td>\n",
       "      <td>-0.439733</td>\n",
       "      <td>0.947877</td>\n",
       "      <td>-1.479030</td>\n",
       "      <td>0.987725</td>\n",
       "      <td>0.385055</td>\n",
       "      <td>0.692771</td>\n",
       "      <td>-0.147447</td>\n",
       "      <td>-0.218508</td>\n",
       "      <td>-1.747187</td>\n",
       "      <td>0.266358</td>\n",
       "    </tr>\n",
       "    <tr>\n",
       "      <th>30160</th>\n",
       "      <td>1.032530</td>\n",
       "      <td>0.839343</td>\n",
       "      <td>0.174805</td>\n",
       "      <td>-0.439733</td>\n",
       "      <td>-0.387243</td>\n",
       "      <td>-0.734533</td>\n",
       "      <td>2.236683</td>\n",
       "      <td>0.385055</td>\n",
       "      <td>-1.443479</td>\n",
       "      <td>1.881084</td>\n",
       "      <td>-0.218508</td>\n",
       "      <td>-0.077735</td>\n",
       "      <td>0.266358</td>\n",
       "    </tr>\n",
       "  </tbody>\n",
       "</table>\n",
       "<p>30161 rows × 13 columns</p>\n",
       "</div>"
      ],
      "text/plain": [
       "            age  workclass  education  educationno  maritalstatus  occupation  \\\n",
       "0      0.042779   2.935947  -0.349827     1.128898       0.947877   -1.479030   \n",
       "1      0.880261   1.887645  -0.349827     1.128898      -0.387243   -0.734533   \n",
       "2     -0.033356  -0.208958   0.174805    -0.439733      -1.722362   -0.238202   \n",
       "3      1.108665  -0.208958  -2.448354    -1.224048      -0.387243   -0.238202   \n",
       "4     -0.794703  -0.208958  -0.349827     1.128898      -0.387243    0.754461   \n",
       "...         ...        ...        ...          ...            ...         ...   \n",
       "30156 -0.870838  -0.208958  -0.874459     0.736740      -0.387243    1.498958   \n",
       "30157  0.118914  -0.208958   0.174805    -0.439733      -0.387243    0.009964   \n",
       "30158  1.489339  -0.208958   0.174805    -0.439733       2.282996   -1.479030   \n",
       "30159 -1.251511  -0.208958   0.174805    -0.439733       0.947877   -1.479030   \n",
       "30160  1.032530   0.839343   0.174805    -0.439733      -0.387243   -0.734533   \n",
       "\n",
       "       relationship      race       sex  capitalgain  capitalloss  \\\n",
       "0         -0.261233  0.385055  0.692771     0.146085    -0.218508   \n",
       "1         -0.885712  0.385055  0.692771    -0.147447    -0.218508   \n",
       "2         -0.261233  0.385055  0.692771    -0.147447    -0.218508   \n",
       "3         -0.885712 -2.010994  0.692771    -0.147447    -0.218508   \n",
       "4          2.236683 -2.010994 -1.443479    -0.147447    -0.218508   \n",
       "...             ...       ...       ...          ...          ...   \n",
       "30156      2.236683  0.385055 -1.443479    -0.147447    -0.218508   \n",
       "30157     -0.885712  0.385055  0.692771    -0.147447    -0.218508   \n",
       "30158      1.612204  0.385055 -1.443479    -0.147447    -0.218508   \n",
       "30159      0.987725  0.385055  0.692771    -0.147447    -0.218508   \n",
       "30160      2.236683  0.385055 -1.443479     1.881084    -0.218508   \n",
       "\n",
       "       hoursperweek    native  \n",
       "0         -0.077735  0.266358  \n",
       "1         -2.331495  0.266358  \n",
       "2         -0.077735  0.266358  \n",
       "3         -0.077735  0.266358  \n",
       "4         -0.077735 -5.273965  \n",
       "...             ...       ...  \n",
       "30156     -0.244681  0.266358  \n",
       "30157     -0.077735  0.266358  \n",
       "30158     -0.077735  0.266358  \n",
       "30159     -1.747187  0.266358  \n",
       "30160     -0.077735  0.266358  \n",
       "\n",
       "[30161 rows x 13 columns]"
      ]
     },
     "execution_count": 22,
     "metadata": {},
     "output_type": "execute_result"
    }
   ],
   "source": [
    "std_scaler=StandardScaler()\n",
    "X_scaled=std_scaler.fit_transform(X_train)\n",
    "X_scaled=pd.DataFrame(data=X_scaled,columns=X_train.columns)\n",
    "X_scaled"
   ]
  },
  {
   "cell_type": "code",
   "execution_count": 23,
   "metadata": {},
   "outputs": [],
   "source": [
    "X_test=test_data.drop('Salary',axis=1)\n",
    "y_test=test_data[['Salary']]"
   ]
  },
  {
   "cell_type": "markdown",
   "metadata": {},
   "source": [
    "### Here they have given separate set to validation so we no need to split it"
   ]
  },
  {
   "cell_type": "markdown",
   "metadata": {},
   "source": [
    "# kernel=rbf"
   ]
  },
  {
   "cell_type": "code",
   "execution_count": 24,
   "metadata": {},
   "outputs": [],
   "source": [
    "sv_model=SVC()"
   ]
  },
  {
   "cell_type": "code",
   "execution_count": null,
   "metadata": {},
   "outputs": [],
   "source": [
    "\n"
   ]
  },
  {
   "cell_type": "markdown",
   "metadata": {},
   "source": [
    "# 6.Model Training"
   ]
  },
  {
   "cell_type": "code",
   "execution_count": 25,
   "metadata": {},
   "outputs": [
    {
     "data": {
      "text/plain": [
       "SVC()"
      ]
     },
     "execution_count": 25,
     "metadata": {},
     "output_type": "execute_result"
    }
   ],
   "source": [
    "sv_model.fit(X_scaled,y_train)"
   ]
  },
  {
   "cell_type": "markdown",
   "metadata": {},
   "source": [
    "# 7.Model Testing | Model Evaluation"
   ]
  },
  {
   "cell_type": "markdown",
   "metadata": {},
   "source": [
    "#### Train data"
   ]
  },
  {
   "cell_type": "code",
   "execution_count": 26,
   "metadata": {},
   "outputs": [],
   "source": [
    "y_pred_train_1=sv_model.predict(X_train)"
   ]
  },
  {
   "cell_type": "code",
   "execution_count": 28,
   "metadata": {},
   "outputs": [
    {
     "name": "stdout",
     "output_type": "stream",
     "text": [
      "0.7510692616292564\n",
      "====================================\n",
      "[[22653     0]\n",
      " [ 7508     0]]\n",
      "====================================\n",
      "              precision    recall  f1-score   support\n",
      "\n",
      "           0       0.75      1.00      0.86     22653\n",
      "           1       0.00      0.00      0.00      7508\n",
      "\n",
      "    accuracy                           0.75     30161\n",
      "   macro avg       0.38      0.50      0.43     30161\n",
      "weighted avg       0.56      0.75      0.64     30161\n",
      "\n"
     ]
    }
   ],
   "source": [
    "print(accuracy_score(y_train,y_pred_train_1))\n",
    "print('====================================')\n",
    "print(confusion_matrix(y_train,y_pred_train_1))\n",
    "print('====================================')\n",
    "print(classification_report(y_train,y_pred_train_1))"
   ]
  },
  {
   "cell_type": "markdown",
   "metadata": {},
   "source": [
    "#### Test data"
   ]
  },
  {
   "cell_type": "code",
   "execution_count": 36,
   "metadata": {},
   "outputs": [],
   "source": [
    "y_pred_test_1=sv_model.predict(X_test)"
   ]
  },
  {
   "cell_type": "code",
   "execution_count": 30,
   "metadata": {},
   "outputs": [
    {
     "name": "stdout",
     "output_type": "stream",
     "text": [
      "0.7510692616292564\n",
      "====================================\n",
      "[[22653     0]\n",
      " [ 7508     0]]\n",
      "====================================\n",
      "              precision    recall  f1-score   support\n",
      "\n",
      "           0       0.75      1.00      0.86     22653\n",
      "           1       0.00      0.00      0.00      7508\n",
      "\n",
      "    accuracy                           0.75     30161\n",
      "   macro avg       0.38      0.50      0.43     30161\n",
      "weighted avg       0.56      0.75      0.64     30161\n",
      "\n"
     ]
    }
   ],
   "source": [
    "print(accuracy_score(y_test,y_pred_test_1))\n",
    "print('====================================')\n",
    "print(confusion_matrix(y_test,y_pred_test_1))\n",
    "print('====================================')\n",
    "print(classification_report(y_test,y_pred_test_1))"
   ]
  },
  {
   "cell_type": "markdown",
   "metadata": {},
   "source": [
    "# kernel=sigmoid"
   ]
  },
  {
   "cell_type": "code",
   "execution_count": 31,
   "metadata": {},
   "outputs": [],
   "source": [
    "model2=SVC(kernel='sigmoid')"
   ]
  },
  {
   "cell_type": "markdown",
   "metadata": {},
   "source": [
    "# Model Training"
   ]
  },
  {
   "cell_type": "code",
   "execution_count": 32,
   "metadata": {},
   "outputs": [
    {
     "data": {
      "text/plain": [
       "SVC(kernel='sigmoid')"
      ]
     },
     "execution_count": 32,
     "metadata": {},
     "output_type": "execute_result"
    }
   ],
   "source": [
    "model2.fit(X_scaled,y_train)"
   ]
  },
  {
   "cell_type": "markdown",
   "metadata": {},
   "source": [
    "# Model Testing | Model Evaluation"
   ]
  },
  {
   "cell_type": "markdown",
   "metadata": {},
   "source": [
    "#### Train data"
   ]
  },
  {
   "cell_type": "code",
   "execution_count": 34,
   "metadata": {},
   "outputs": [],
   "source": [
    "y_pred_train_2=model2.predict(X_train)"
   ]
  },
  {
   "cell_type": "code",
   "execution_count": 35,
   "metadata": {},
   "outputs": [
    {
     "name": "stdout",
     "output_type": "stream",
     "text": [
      "0.24017771294055237\n",
      "====================================\n",
      "[[ 1343 21310]\n",
      " [ 1607  5901]]\n",
      "====================================\n",
      "              precision    recall  f1-score   support\n",
      "\n",
      "           0       0.46      0.06      0.10     22653\n",
      "           1       0.22      0.79      0.34      7508\n",
      "\n",
      "    accuracy                           0.24     30161\n",
      "   macro avg       0.34      0.42      0.22     30161\n",
      "weighted avg       0.40      0.24      0.16     30161\n",
      "\n"
     ]
    }
   ],
   "source": [
    "print(accuracy_score(y_train,y_pred_train_2))\n",
    "print('====================================')\n",
    "print(confusion_matrix(y_train,y_pred_train_2))\n",
    "print('====================================')\n",
    "print(classification_report(y_train,y_pred_train_2))"
   ]
  },
  {
   "cell_type": "markdown",
   "metadata": {},
   "source": [
    "#### Test data"
   ]
  },
  {
   "cell_type": "code",
   "execution_count": 41,
   "metadata": {},
   "outputs": [],
   "source": [
    "y_pred_test_2=model2.predict(X_test)"
   ]
  },
  {
   "cell_type": "code",
   "execution_count": 42,
   "metadata": {},
   "outputs": [
    {
     "name": "stdout",
     "output_type": "stream",
     "text": [
      "0.23725099601593624\n",
      "====================================\n",
      "[[  657 10703]\n",
      " [  784  2916]]\n",
      "====================================\n",
      "              precision    recall  f1-score   support\n",
      "\n",
      "           0       0.46      0.06      0.10     11360\n",
      "           1       0.21      0.79      0.34      3700\n",
      "\n",
      "    accuracy                           0.24     15060\n",
      "   macro avg       0.34      0.42      0.22     15060\n",
      "weighted avg       0.40      0.24      0.16     15060\n",
      "\n"
     ]
    }
   ],
   "source": [
    "print(accuracy_score(y_test,y_pred_test_2))\n",
    "print('====================================')\n",
    "print(confusion_matrix(y_test,y_pred_test_2))\n",
    "print('====================================')\n",
    "print(classification_report(y_test,y_pred_test_2))"
   ]
  },
  {
   "cell_type": "markdown",
   "metadata": {},
   "source": [
    "# if kernel=sigmoid it gives very bad accuracy"
   ]
  },
  {
   "cell_type": "markdown",
   "metadata": {},
   "source": [
    "# kernel=polynomial"
   ]
  },
  {
   "cell_type": "code",
   "execution_count": 43,
   "metadata": {},
   "outputs": [],
   "source": [
    "model3=SVC(kernel='poly')"
   ]
  },
  {
   "cell_type": "markdown",
   "metadata": {},
   "source": [
    "# Training model "
   ]
  },
  {
   "cell_type": "code",
   "execution_count": 44,
   "metadata": {},
   "outputs": [
    {
     "data": {
      "text/plain": [
       "SVC(kernel='poly')"
      ]
     },
     "execution_count": 44,
     "metadata": {},
     "output_type": "execute_result"
    }
   ],
   "source": [
    "model3.fit(X_scaled,y_train)"
   ]
  },
  {
   "cell_type": "markdown",
   "metadata": {},
   "source": [
    "# Model Testing | Model Evalution"
   ]
  },
  {
   "cell_type": "markdown",
   "metadata": {},
   "source": [
    "#### Train data"
   ]
  },
  {
   "cell_type": "code",
   "execution_count": 45,
   "metadata": {},
   "outputs": [],
   "source": [
    "y_pred_train_3=model3.predict(X_train)"
   ]
  },
  {
   "cell_type": "code",
   "execution_count": 46,
   "metadata": {},
   "outputs": [
    {
     "name": "stdout",
     "output_type": "stream",
     "text": [
      "0.24017771294055237\n",
      "====================================\n",
      "[[ 1343 21310]\n",
      " [ 1607  5901]]\n",
      "====================================\n",
      "              precision    recall  f1-score   support\n",
      "\n",
      "           0       0.46      0.06      0.10     22653\n",
      "           1       0.22      0.79      0.34      7508\n",
      "\n",
      "    accuracy                           0.24     30161\n",
      "   macro avg       0.34      0.42      0.22     30161\n",
      "weighted avg       0.40      0.24      0.16     30161\n",
      "\n"
     ]
    }
   ],
   "source": [
    "print(accuracy_score(y_train,y_pred_train_2))\n",
    "print('====================================')\n",
    "print(confusion_matrix(y_train,y_pred_train_2))\n",
    "print('====================================')\n",
    "print(classification_report(y_train,y_pred_train_2))"
   ]
  },
  {
   "cell_type": "markdown",
   "metadata": {},
   "source": [
    "#### Test data"
   ]
  },
  {
   "cell_type": "code",
   "execution_count": 47,
   "metadata": {},
   "outputs": [],
   "source": [
    "y_pred_test_3=model3.predict(X_test)"
   ]
  },
  {
   "cell_type": "code",
   "execution_count": 48,
   "metadata": {},
   "outputs": [
    {
     "name": "stdout",
     "output_type": "stream",
     "text": [
      "0.7752324037184595\n",
      "====================================\n",
      "[[10534   826]\n",
      " [ 2559  1141]]\n",
      "====================================\n",
      "              precision    recall  f1-score   support\n",
      "\n",
      "           0       0.80      0.93      0.86     11360\n",
      "           1       0.58      0.31      0.40      3700\n",
      "\n",
      "    accuracy                           0.78     15060\n",
      "   macro avg       0.69      0.62      0.63     15060\n",
      "weighted avg       0.75      0.78      0.75     15060\n",
      "\n"
     ]
    }
   ],
   "source": [
    "print(accuracy_score(y_test,y_pred_test_3))\n",
    "print('====================================')\n",
    "print(confusion_matrix(y_test,y_pred_test_3))\n",
    "print('====================================')\n",
    "print(classification_report(y_test,y_pred_test_3))"
   ]
  },
  {
   "cell_type": "markdown",
   "metadata": {},
   "source": [
    "# if kernel=poly it is giving bad accuracy"
   ]
  },
  {
   "cell_type": "markdown",
   "metadata": {},
   "source": [
    "# kernel=linear"
   ]
  },
  {
   "cell_type": "code",
   "execution_count": 49,
   "metadata": {},
   "outputs": [],
   "source": [
    "model4=SVC(kernel='linear')"
   ]
  },
  {
   "cell_type": "markdown",
   "metadata": {},
   "source": [
    "# Model Training"
   ]
  },
  {
   "cell_type": "code",
   "execution_count": 50,
   "metadata": {},
   "outputs": [
    {
     "data": {
      "text/plain": [
       "SVC(kernel='linear')"
      ]
     },
     "execution_count": 50,
     "metadata": {},
     "output_type": "execute_result"
    }
   ],
   "source": [
    "model4.fit(X_scaled,y_train)"
   ]
  },
  {
   "cell_type": "markdown",
   "metadata": {},
   "source": [
    "# Model Testing"
   ]
  },
  {
   "cell_type": "markdown",
   "metadata": {},
   "source": [
    "#### Train data"
   ]
  },
  {
   "cell_type": "code",
   "execution_count": 51,
   "metadata": {},
   "outputs": [],
   "source": [
    "y_pred_train_4=model4.predict(X_train)"
   ]
  },
  {
   "cell_type": "code",
   "execution_count": 53,
   "metadata": {},
   "outputs": [
    {
     "name": "stdout",
     "output_type": "stream",
     "text": [
      "0.24893073837074367\n",
      "====================================\n",
      "[[    0 22653]\n",
      " [    0  7508]]\n",
      "====================================\n",
      "              precision    recall  f1-score   support\n",
      "\n",
      "           0       0.00      0.00      0.00     22653\n",
      "           1       0.25      1.00      0.40      7508\n",
      "\n",
      "    accuracy                           0.25     30161\n",
      "   macro avg       0.12      0.50      0.20     30161\n",
      "weighted avg       0.06      0.25      0.10     30161\n",
      "\n"
     ]
    }
   ],
   "source": [
    "print(accuracy_score(y_train,y_pred_train_4))\n",
    "print('====================================')\n",
    "print(confusion_matrix(y_train,y_pred_train_4))\n",
    "print('====================================')\n",
    "print(classification_report(y_train,y_pred_train_4))"
   ]
  },
  {
   "cell_type": "markdown",
   "metadata": {},
   "source": [
    "# Even for kernel=linear it is giving bad accuracy"
   ]
  },
  {
   "cell_type": "markdown",
   "metadata": {},
   "source": [
    "## Now will try change c and gamma for better accuracy with kernel=rbf"
   ]
  },
  {
   "cell_type": "code",
   "execution_count": 57,
   "metadata": {},
   "outputs": [],
   "source": [
    "def find(gamma,C=1):\n",
    "    model=SVC(gamma=gamma,C=C)\n",
    "    model.fit(X_scaled,y_train)\n",
    "    y_pred=model.predict(X_train)\n",
    "    print(accuracy_score(y_train,y_pred))\n",
    "    print('====================================')\n",
    "    print(confusion_matrix(y_train,y_pred))\n",
    "    print('====================================')\n",
    "    print(classification_report(y_train,y_pred))\n",
    "    print('test data')\n",
    "    print('====================================')\n",
    "    y_pred_t=model.predict(X_test)\n",
    "    print(accuracy_score(y_test,y_pred_t))\n",
    "    print('====================================')\n",
    "    print(confusion_matrix(y_test,y_pred_t))\n",
    "    print('====================================')\n",
    "    print(classification_report(y_test,y_pred_t))\n",
    "    return model"
   ]
  },
  {
   "cell_type": "markdown",
   "metadata": {},
   "source": [
    "## keeping c constant"
   ]
  },
  {
   "cell_type": "code",
   "execution_count": 58,
   "metadata": {},
   "outputs": [
    {
     "name": "stdout",
     "output_type": "stream",
     "text": [
      "0.7493783362620603\n",
      "====================================\n",
      "[[22601    52]\n",
      " [ 7507     1]]\n",
      "====================================\n",
      "              precision    recall  f1-score   support\n",
      "\n",
      "           0       0.75      1.00      0.86     22653\n",
      "           1       0.02      0.00      0.00      7508\n",
      "\n",
      "    accuracy                           0.75     30161\n",
      "   macro avg       0.38      0.50      0.43     30161\n",
      "weighted avg       0.57      0.75      0.64     30161\n",
      "\n",
      "test data\n",
      "====================================\n",
      "0.7523904382470119\n",
      "====================================\n",
      "[[11331    29]\n",
      " [ 3700     0]]\n",
      "====================================\n",
      "              precision    recall  f1-score   support\n",
      "\n",
      "           0       0.75      1.00      0.86     11360\n",
      "           1       0.00      0.00      0.00      3700\n",
      "\n",
      "    accuracy                           0.75     15060\n",
      "   macro avg       0.38      0.50      0.43     15060\n",
      "weighted avg       0.57      0.75      0.65     15060\n",
      "\n"
     ]
    },
    {
     "data": {
      "text/plain": [
       "SVC(C=1, gamma=0.001)"
      ]
     },
     "execution_count": 58,
     "metadata": {},
     "output_type": "execute_result"
    }
   ],
   "source": [
    "find(0.001)"
   ]
  },
  {
   "cell_type": "code",
   "execution_count": 59,
   "metadata": {},
   "outputs": [
    {
     "name": "stdout",
     "output_type": "stream",
     "text": [
      "0.7510692616292564\n",
      "====================================\n",
      "[[22653     0]\n",
      " [ 7508     0]]\n",
      "====================================\n",
      "              precision    recall  f1-score   support\n",
      "\n",
      "           0       0.75      1.00      0.86     22653\n",
      "           1       0.00      0.00      0.00      7508\n",
      "\n",
      "    accuracy                           0.75     30161\n",
      "   macro avg       0.38      0.50      0.43     30161\n",
      "weighted avg       0.56      0.75      0.64     30161\n",
      "\n",
      "test data\n",
      "====================================\n",
      "0.7543160690571049\n",
      "====================================\n",
      "[[11360     0]\n",
      " [ 3700     0]]\n",
      "====================================\n",
      "              precision    recall  f1-score   support\n",
      "\n",
      "           0       0.75      1.00      0.86     11360\n",
      "           1       0.00      0.00      0.00      3700\n",
      "\n",
      "    accuracy                           0.75     15060\n",
      "   macro avg       0.38      0.50      0.43     15060\n",
      "weighted avg       0.57      0.75      0.65     15060\n",
      "\n"
     ]
    },
    {
     "data": {
      "text/plain": [
       "SVC(C=1, gamma=0.1)"
      ]
     },
     "execution_count": 59,
     "metadata": {},
     "output_type": "execute_result"
    }
   ],
   "source": [
    "find(0.1)"
   ]
  },
  {
   "cell_type": "code",
   "execution_count": 60,
   "metadata": {},
   "outputs": [
    {
     "name": "stdout",
     "output_type": "stream",
     "text": [
      "0.7510692616292564\n",
      "====================================\n",
      "[[22653     0]\n",
      " [ 7508     0]]\n",
      "====================================\n",
      "              precision    recall  f1-score   support\n",
      "\n",
      "           0       0.75      1.00      0.86     22653\n",
      "           1       0.00      0.00      0.00      7508\n",
      "\n",
      "    accuracy                           0.75     30161\n",
      "   macro avg       0.38      0.50      0.43     30161\n",
      "weighted avg       0.56      0.75      0.64     30161\n",
      "\n",
      "test data\n",
      "====================================\n",
      "0.7543160690571049\n",
      "====================================\n",
      "[[11360     0]\n",
      " [ 3700     0]]\n",
      "====================================\n",
      "              precision    recall  f1-score   support\n",
      "\n",
      "           0       0.75      1.00      0.86     11360\n",
      "           1       0.00      0.00      0.00      3700\n",
      "\n",
      "    accuracy                           0.75     15060\n",
      "   macro avg       0.38      0.50      0.43     15060\n",
      "weighted avg       0.57      0.75      0.65     15060\n",
      "\n"
     ]
    },
    {
     "data": {
      "text/plain": [
       "SVC(C=1, gamma=1.0)"
      ]
     },
     "execution_count": 60,
     "metadata": {},
     "output_type": "execute_result"
    }
   ],
   "source": [
    "find(1.0)"
   ]
  },
  {
   "cell_type": "code",
   "execution_count": 62,
   "metadata": {},
   "outputs": [
    {
     "name": "stdout",
     "output_type": "stream",
     "text": [
      "0.7510692616292564\n",
      "====================================\n",
      "[[22653     0]\n",
      " [ 7508     0]]\n",
      "====================================\n",
      "              precision    recall  f1-score   support\n",
      "\n",
      "           0       0.75      1.00      0.86     22653\n",
      "           1       0.00      0.00      0.00      7508\n",
      "\n",
      "    accuracy                           0.75     30161\n",
      "   macro avg       0.38      0.50      0.43     30161\n",
      "weighted avg       0.56      0.75      0.64     30161\n",
      "\n",
      "test data\n",
      "====================================\n",
      "0.7543160690571049\n",
      "====================================\n",
      "[[11360     0]\n",
      " [ 3700     0]]\n",
      "====================================\n",
      "              precision    recall  f1-score   support\n",
      "\n",
      "           0       0.75      1.00      0.86     11360\n",
      "           1       0.00      0.00      0.00      3700\n",
      "\n",
      "    accuracy                           0.75     15060\n",
      "   macro avg       0.38      0.50      0.43     15060\n",
      "weighted avg       0.57      0.75      0.65     15060\n",
      "\n"
     ]
    },
    {
     "data": {
      "text/plain": [
       "SVC(C=1, gamma=10.0)"
      ]
     },
     "execution_count": 62,
     "metadata": {},
     "output_type": "execute_result"
    }
   ],
   "source": [
    "find(10.0)"
   ]
  },
  {
   "cell_type": "code",
   "execution_count": 63,
   "metadata": {},
   "outputs": [
    {
     "name": "stdout",
     "output_type": "stream",
     "text": [
      "0.7510692616292564\n",
      "====================================\n",
      "[[22653     0]\n",
      " [ 7508     0]]\n",
      "====================================\n",
      "              precision    recall  f1-score   support\n",
      "\n",
      "           0       0.75      1.00      0.86     22653\n",
      "           1       0.00      0.00      0.00      7508\n",
      "\n",
      "    accuracy                           0.75     30161\n",
      "   macro avg       0.38      0.50      0.43     30161\n",
      "weighted avg       0.56      0.75      0.64     30161\n",
      "\n",
      "test data\n",
      "====================================\n",
      "0.7543160690571049\n",
      "====================================\n",
      "[[11360     0]\n",
      " [ 3700     0]]\n",
      "====================================\n",
      "              precision    recall  f1-score   support\n",
      "\n",
      "           0       0.75      1.00      0.86     11360\n",
      "           1       0.00      0.00      0.00      3700\n",
      "\n",
      "    accuracy                           0.75     15060\n",
      "   macro avg       0.38      0.50      0.43     15060\n",
      "weighted avg       0.57      0.75      0.65     15060\n",
      "\n"
     ]
    },
    {
     "data": {
      "text/plain": [
       "SVC(C=3, gamma=50)"
      ]
     },
     "execution_count": 63,
     "metadata": {},
     "output_type": "execute_result"
    }
   ],
   "source": [
    "find(50,3)"
   ]
  },
  {
   "cell_type": "code",
   "execution_count": 64,
   "metadata": {},
   "outputs": [
    {
     "name": "stdout",
     "output_type": "stream",
     "text": [
      "0.7510692616292564\n",
      "====================================\n",
      "[[22653     0]\n",
      " [ 7508     0]]\n",
      "====================================\n",
      "              precision    recall  f1-score   support\n",
      "\n",
      "           0       0.75      1.00      0.86     22653\n",
      "           1       0.00      0.00      0.00      7508\n",
      "\n",
      "    accuracy                           0.75     30161\n",
      "   macro avg       0.38      0.50      0.43     30161\n",
      "weighted avg       0.56      0.75      0.64     30161\n",
      "\n",
      "test data\n",
      "====================================\n",
      "0.7543160690571049\n",
      "====================================\n",
      "[[11360     0]\n",
      " [ 3700     0]]\n",
      "====================================\n",
      "              precision    recall  f1-score   support\n",
      "\n",
      "           0       0.75      1.00      0.86     11360\n",
      "           1       0.00      0.00      0.00      3700\n",
      "\n",
      "    accuracy                           0.75     15060\n",
      "   macro avg       0.38      0.50      0.43     15060\n",
      "weighted avg       0.57      0.75      0.65     15060\n",
      "\n"
     ]
    },
    {
     "data": {
      "text/plain": [
       "SVC(C=10, gamma=50)"
      ]
     },
     "execution_count": 64,
     "metadata": {},
     "output_type": "execute_result"
    }
   ],
   "source": [
    "find(50,10)"
   ]
  },
  {
   "cell_type": "markdown",
   "metadata": {},
   "source": [
    "# Here it is more time taking process because SVM uses Neural Networks concept so with optimal value we may increase accuracy but it is a time taking process"
   ]
  },
  {
   "cell_type": "code",
   "execution_count": null,
   "metadata": {},
   "outputs": [],
   "source": []
  }
 ],
 "metadata": {
  "kernelspec": {
   "display_name": "Python 3",
   "language": "python",
   "name": "python3"
  },
  "language_info": {
   "codemirror_mode": {
    "name": "ipython",
    "version": 3
   },
   "file_extension": ".py",
   "mimetype": "text/x-python",
   "name": "python",
   "nbconvert_exporter": "python",
   "pygments_lexer": "ipython3",
   "version": "3.8.5"
  }
 },
 "nbformat": 4,
 "nbformat_minor": 4
}
